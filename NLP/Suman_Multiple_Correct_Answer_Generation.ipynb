{
 "cells": [
  {
   "cell_type": "code",
   "execution_count": null,
   "metadata": {},
   "outputs": [],
   "source": []
  },
  {
   "cell_type": "markdown",
   "metadata": {
    "id": "W5aIMT2tY-Sk"
   },
   "source": [
    "# **MCQ Question Generator using Spacy Library**"
   ]
  },
  {
   "cell_type": "markdown",
   "metadata": {
    "id": "B7mF2_SrY6qj"
   },
   "source": [
    "This code generates multiple-choice questions (MCQs) based on a given context paragraph using the Spacy library. The MCQs are designed to have multiple correct answer choices for added variety. The generated MCQs are then displayed to the user."
   ]
  },
  {
   "cell_type": "markdown",
   "metadata": {
    "id": "NMqubQ48ZxqC"
   },
   "source": [
    "### **Import necessary libraries**"
   ]
  },
  {
   "cell_type": "markdown",
   "metadata": {
    "id": "rrqsD-mUcSTt"
   },
   "source": [
    "Imports the required libraries, spacy for natural language processing and random for generating random choices."
   ]
  },
  {
   "cell_type": "code",
   "execution_count": 1,
   "metadata": {
    "id": "bJ9pMGgycW0S"
   },
   "outputs": [
    {
     "name": "stderr",
     "output_type": "stream",
     "text": [
      "C:\\Users\\suman\\Anaconda3\\lib\\importlib\\_bootstrap.py:219: RuntimeWarning: spacy.strings.StringStore size changed, may indicate binary incompatibility. Expected 64 from C header, got 80 from PyObject\n",
      "  return f(*args, **kwds)\n",
      "C:\\Users\\suman\\Anaconda3\\lib\\importlib\\_bootstrap.py:219: RuntimeWarning: spacy.morphology.Morphology size changed, may indicate binary incompatibility. Expected 48 from C header, got 112 from PyObject\n",
      "  return f(*args, **kwds)\n"
     ]
    },
    {
     "ename": "ValueError",
     "evalue": "spacy.vocab.Vocab size changed, may indicate binary incompatibility. Expected 120 from C header, got 112 from PyObject",
     "output_type": "error",
     "traceback": [
      "\u001b[1;31m---------------------------------------------------------------------------\u001b[0m",
      "\u001b[1;31mValueError\u001b[0m                                Traceback (most recent call last)",
      "\u001b[1;32m<ipython-input-1-33994ab32dd0>\u001b[0m in \u001b[0;36m<module>\u001b[1;34m\u001b[0m\n\u001b[1;32m----> 1\u001b[1;33m \u001b[1;32mimport\u001b[0m \u001b[0mspacy\u001b[0m\u001b[1;33m\u001b[0m\u001b[1;33m\u001b[0m\u001b[0m\n\u001b[0m\u001b[0;32m      2\u001b[0m \u001b[1;32mimport\u001b[0m \u001b[0mrandom\u001b[0m\u001b[1;33m\u001b[0m\u001b[1;33m\u001b[0m\u001b[0m\n",
      "\u001b[1;32m~\\Anaconda3\\lib\\site-packages\\spacy\\__init__.py\u001b[0m in \u001b[0;36m<module>\u001b[1;34m\u001b[0m\n\u001b[0;32m     10\u001b[0m \u001b[1;32mfrom\u001b[0m \u001b[0mthinc\u001b[0m\u001b[1;33m.\u001b[0m\u001b[0mneural\u001b[0m\u001b[1;33m.\u001b[0m\u001b[0mutil\u001b[0m \u001b[1;32mimport\u001b[0m \u001b[0mprefer_gpu\u001b[0m\u001b[1;33m,\u001b[0m \u001b[0mrequire_gpu\u001b[0m\u001b[1;33m\u001b[0m\u001b[1;33m\u001b[0m\u001b[0m\n\u001b[0;32m     11\u001b[0m \u001b[1;33m\u001b[0m\u001b[0m\n\u001b[1;32m---> 12\u001b[1;33m \u001b[1;32mfrom\u001b[0m \u001b[1;33m.\u001b[0m \u001b[1;32mimport\u001b[0m \u001b[0mpipeline\u001b[0m\u001b[1;33m\u001b[0m\u001b[1;33m\u001b[0m\u001b[0m\n\u001b[0m\u001b[0;32m     13\u001b[0m \u001b[1;32mfrom\u001b[0m \u001b[1;33m.\u001b[0m\u001b[0mcli\u001b[0m\u001b[1;33m.\u001b[0m\u001b[0minfo\u001b[0m \u001b[1;32mimport\u001b[0m \u001b[0minfo\u001b[0m \u001b[1;32mas\u001b[0m \u001b[0mcli_info\u001b[0m\u001b[1;33m\u001b[0m\u001b[1;33m\u001b[0m\u001b[0m\n\u001b[0;32m     14\u001b[0m \u001b[1;32mfrom\u001b[0m \u001b[1;33m.\u001b[0m\u001b[0mglossary\u001b[0m \u001b[1;32mimport\u001b[0m \u001b[0mexplain\u001b[0m\u001b[1;33m\u001b[0m\u001b[1;33m\u001b[0m\u001b[0m\n",
      "\u001b[1;32m~\\Anaconda3\\lib\\site-packages\\spacy\\pipeline\\__init__.py\u001b[0m in \u001b[0;36m<module>\u001b[1;34m\u001b[0m\n\u001b[0;32m      2\u001b[0m \u001b[1;32mfrom\u001b[0m \u001b[0m__future__\u001b[0m \u001b[1;32mimport\u001b[0m \u001b[0municode_literals\u001b[0m\u001b[1;33m\u001b[0m\u001b[1;33m\u001b[0m\u001b[0m\n\u001b[0;32m      3\u001b[0m \u001b[1;33m\u001b[0m\u001b[0m\n\u001b[1;32m----> 4\u001b[1;33m \u001b[1;32mfrom\u001b[0m \u001b[1;33m.\u001b[0m\u001b[0mpipes\u001b[0m \u001b[1;32mimport\u001b[0m \u001b[0mTagger\u001b[0m\u001b[1;33m,\u001b[0m \u001b[0mDependencyParser\u001b[0m\u001b[1;33m,\u001b[0m \u001b[0mEntityRecognizer\u001b[0m\u001b[1;33m,\u001b[0m \u001b[0mEntityLinker\u001b[0m\u001b[1;33m\u001b[0m\u001b[1;33m\u001b[0m\u001b[0m\n\u001b[0m\u001b[0;32m      5\u001b[0m \u001b[1;32mfrom\u001b[0m \u001b[1;33m.\u001b[0m\u001b[0mpipes\u001b[0m \u001b[1;32mimport\u001b[0m \u001b[0mTextCategorizer\u001b[0m\u001b[1;33m,\u001b[0m \u001b[0mTensorizer\u001b[0m\u001b[1;33m,\u001b[0m \u001b[0mPipe\u001b[0m\u001b[1;33m,\u001b[0m \u001b[0mSentencizer\u001b[0m\u001b[1;33m\u001b[0m\u001b[1;33m\u001b[0m\u001b[0m\n\u001b[0;32m      6\u001b[0m \u001b[1;32mfrom\u001b[0m \u001b[1;33m.\u001b[0m\u001b[0mmorphologizer\u001b[0m \u001b[1;32mimport\u001b[0m \u001b[0mMorphologizer\u001b[0m\u001b[1;33m\u001b[0m\u001b[1;33m\u001b[0m\u001b[0m\n",
      "\u001b[1;32mpipes.pyx\u001b[0m in \u001b[0;36minit spacy.pipeline.pipes\u001b[1;34m()\u001b[0m\n",
      "\u001b[1;32m~\\Anaconda3\\lib\\site-packages\\spacy\\kb\\__init__.py\u001b[0m in \u001b[0;36m<module>\u001b[1;34m\u001b[0m\n\u001b[1;32m----> 1\u001b[1;33m \u001b[1;32mfrom\u001b[0m \u001b[1;33m.\u001b[0m\u001b[0mcandidate\u001b[0m \u001b[1;32mimport\u001b[0m \u001b[0mCandidate\u001b[0m\u001b[1;33m,\u001b[0m \u001b[0mget_candidates\u001b[0m\u001b[1;33m,\u001b[0m \u001b[0mget_candidates_batch\u001b[0m\u001b[1;33m\u001b[0m\u001b[1;33m\u001b[0m\u001b[0m\n\u001b[0m\u001b[0;32m      2\u001b[0m \u001b[1;32mfrom\u001b[0m \u001b[1;33m.\u001b[0m\u001b[0mkb\u001b[0m \u001b[1;32mimport\u001b[0m \u001b[0mKnowledgeBase\u001b[0m\u001b[1;33m\u001b[0m\u001b[1;33m\u001b[0m\u001b[0m\n\u001b[0;32m      3\u001b[0m \u001b[1;32mfrom\u001b[0m \u001b[1;33m.\u001b[0m\u001b[0mkb_in_memory\u001b[0m \u001b[1;32mimport\u001b[0m \u001b[0mInMemoryLookupKB\u001b[0m\u001b[1;33m\u001b[0m\u001b[1;33m\u001b[0m\u001b[0m\n\u001b[0;32m      4\u001b[0m \u001b[1;33m\u001b[0m\u001b[0m\n\u001b[0;32m      5\u001b[0m __all__ = [\n",
      "\u001b[1;32m~\\Anaconda3\\lib\\site-packages\\spacy\\kb\\candidate.pyx\u001b[0m in \u001b[0;36minit spacy.kb.candidate\u001b[1;34m()\u001b[0m\n",
      "\u001b[1;31mValueError\u001b[0m: spacy.vocab.Vocab size changed, may indicate binary incompatibility. Expected 120 from C header, got 112 from PyObject"
     ]
    }
   ],
   "source": [
    "import spacy\n",
    "import random"
   ]
  },
  {
   "cell_type": "markdown",
   "metadata": {
    "id": "ojCoRPoLZxnF"
   },
   "source": [
    "### **Load English language model**"
   ]
  },
  {
   "cell_type": "markdown",
   "metadata": {
    "id": "si4r2oRRce6a"
   },
   "source": [
    "Loads the English language model \"en_core_web_sm\" from Spacy for processing text."
   ]
  },
  {
   "cell_type": "code",
   "execution_count": null,
   "metadata": {
    "id": "eeVl_jKAch9U"
   },
   "outputs": [],
   "source": [
    "nlp = spacy.load(\"en_core_web_sm\")"
   ]
  },
  {
   "cell_type": "markdown",
   "metadata": {
    "id": "gCHAhvbkZxj-"
   },
   "source": [
    "### **Define function**"
   ]
  },
  {
   "cell_type": "markdown",
   "metadata": {
    "id": "AdyuRPoGcrY7"
   },
   "source": [
    "Defines a function get_mca_questions that takes a context paragraph and the number of questions to generate."
   ]
  },
  {
   "cell_type": "code",
   "execution_count": null,
   "metadata": {
    "id": "OVvwrK0ccvoa"
   },
   "outputs": [],
   "source": [
    "def get_mca_questions(context: str, num_questions: int):\n",
    "  doc = nlp(context)"
   ]
  },
  {
   "cell_type": "markdown",
   "metadata": {
    "id": "76o_bqAmdDhj"
   },
   "source": [
    "### **Define MCQ generation function**"
   ]
  },
  {
   "cell_type": "markdown",
   "metadata": {
    "id": "_4u3VtHrdFYD"
   },
   "source": [
    "Defines a function generate_mcq_with_multiple_correct to create MCQs with multiple correct answers."
   ]
  },
  {
   "cell_type": "code",
   "execution_count": null,
   "metadata": {
    "id": "5gya8jv8dIzO"
   },
   "outputs": [],
   "source": [
    "def generate_mcq_with_multiple_correct(question, correct_answers, other_options, num_options=4):\n",
    "        options = correct_answers + other_options\n",
    "        random.shuffle(options)\n",
    "\n",
    "        mcq = {\n",
    "            \"question\": question,\n",
    "            \"options\": options,\n",
    "            \"correct_answers\": correct_answers\n",
    "        }"
   ]
  },
  {
   "cell_type": "markdown",
   "metadata": {
    "id": "MSjoinuGZxg1"
   },
   "source": [
    "### **Generate a variety question**"
   ]
  },
  {
   "cell_type": "markdown",
   "metadata": {
    "id": "Sse3acDedUDW"
   },
   "source": [
    "Defines a function generate_variety_question that randomly selects a sentence and a word from the context to create a fill-in-the-blank question"
   ]
  },
  {
   "cell_type": "code",
   "execution_count": null,
   "metadata": {
    "id": "Ym6dGAUXdU1K"
   },
   "outputs": [],
   "source": [
    "def generate_variety_question():\n",
    "        # randomly select the sentence from content\n",
    "        sentence = random.choice(list(doc.sents))\n",
    "\n",
    "        # randomly choose non- pronounciation words from sentence as blank word\n",
    "        blank_word = random.choice([token for token in sentence if not token.is_punct])\n",
    "\n",
    "        # create a question text with blank word ----\n",
    "        question_text = sentence.text.replace(blank_word.text, \"______\")\n",
    "\n",
    "        #set correct answers to the blank word\n",
    "        correct_answers = [blank_word.text]\n",
    "\n",
    "        #generating other possible answers\n",
    "        other_options = [token.text for token in doc if token.is_alpha and token.text != correct_answers[0]]\n",
    "\n",
    "        #randonly determine how many correct options\n",
    "        num_correct_options = random.randint(1, 2)\n",
    "\n",
    "        #randomly select correct options to the list of options\n",
    "        correct_answers.extend(random.sample(other_options, num_correct_options))\n",
    "\n",
    "        # no of incorrect answers\n",
    "        num_other_options = min(4 - num_correct_options, len(other_options))\n",
    "        other_options = random.sample(other_options, num_other_options)\n",
    "\n",
    "        #generationg final MCQ\n",
    "        mcq = generate_mcq_with_multiple_correct(question_text, correct_answers, other_options)\n",
    "        return mcq"
   ]
  },
  {
   "cell_type": "markdown",
   "metadata": {
    "id": "WV5bUeP9eQOy"
   },
   "source": [
    "### **Generate questions & Process and format questions**"
   ]
  },
  {
   "cell_type": "markdown",
   "metadata": {
    "id": "J6_-nJTOeYBr"
   },
   "source": [
    "Generates a list of questions using the generate_variety_question function based on the context and specified number of questions. Formats the generated questions, options, and correct answers into strings."
   ]
  },
  {
   "cell_type": "code",
   "execution_count": null,
   "metadata": {
    "id": "KVWJtdV5ecDp"
   },
   "outputs": [],
   "source": [
    "#created empty list to store multiple choice questions\n",
    "mca_questions = []\n",
    "\n",
    "    # enumerate function is used to iterate over the questions\n",
    "    for i, question in enumerate(questions, start=1):\n",
    "\n",
    "        #created a string for question number and question text.\n",
    "        question_str = f\"Q{i}: {question['question']}\\n\"\n",
    "\n",
    "        #created empty string to store option for current question\n",
    "        options_str = \"\"\n",
    "\n",
    "        #iterate through options\n",
    "        for j, option in enumerate(question['options']):\n",
    "            options_str += f\"{j+1}. {option}\\n\"\n",
    "\n",
    "        #format the correct answers into human redable format\n",
    "        correct_options_formatted = \" & \".join([f\"({chr(97+question['options'].index(ans))})\" for ans in question['correct_answers']])\n",
    "\n",
    "        #combine the questions and options and format the correct answes\n",
    "        correct_options_str = f\"Correct Options: {correct_options_formatted}\"\n",
    "\n",
    "        #add the questions into formated questions\n",
    "        mca_question = f\"{question_str}{options_str}{correct_options_str}\\n\"\n",
    "        mca_questions.append(mca_question)\n",
    "\n",
    "    #return the MCQ questions\n",
    "    return mca_questions"
   ]
  },
  {
   "cell_type": "markdown",
   "metadata": {
    "id": "sMKiZfWRZxdD"
   },
   "source": [
    "### **Print Questions**"
   ]
  },
  {
   "cell_type": "markdown",
   "metadata": {
    "id": "udhdAkrYkiGF"
   },
   "source": [
    "Takes user input for the context and number of questions, generates MCQs, and prints each question along with options and correct answers."
   ]
  },
  {
   "cell_type": "code",
   "execution_count": null,
   "metadata": {
    "id": "hdL9ira8kpZM"
   },
   "outputs": [],
   "source": [
    "#user input for paragraph\n",
    "context = input(\"Enter the paragraph: \")\n",
    "\n",
    "#no of questions user want to generate\n",
    "num_questions = int(input(\"Enter the number of questions: \"))\n",
    "\n",
    "#calls the function and generate MCQ questions\n",
    "mca_questions = get_mca_questions(context, num_questions)\n",
    "for question in mca_questions:\n",
    "    print(question)"
   ]
  },
  {
   "cell_type": "markdown",
   "metadata": {
    "id": "8CvsIcGXl6Ey"
   },
   "source": [
    "## **MCQ Final Code**"
   ]
  },
  {
   "cell_type": "code",
   "execution_count": 9,
   "metadata": {
    "colab": {
     "base_uri": "https://localhost:8080/",
     "height": 0
    },
    "id": "O_ucy-wBXuC2",
    "outputId": "40e36919-bf37-4951-af53-3c06a4247921"
   },
   "outputs": [
    {
     "name": "stdout",
     "output_type": "stream",
     "text": [
      "Enter the paragraph: On 12 August 1765, the Mughal emperor appointed the East India Company as the Diwan of Bengal. The actual event most probably took place in Robert Clive’s tent, with a few Englishmen and Indians as witnesses. But in the painting above, the event is shown as a majestic occasion, taking place in a grand setting. The painter was commissioned by Clive to record the memorable events in Clive’s life. The grant of Diwani clearly was one such event in British imagination. As Diwan , the Company became the chief financial administrator of the territory under its control. Now it had to think of administering the land and or anising its revenue resources.This had to be done in a way that could yield enough revenue to meet the growing expenses of the company. A rading company had also to ensure that it could buy the products it needed and sell what it wanted.Over the years, the Company also learnt that it had to move with some caution. Being an alien power, it needed to pacify those who in the past had ruled the countryside, and enjoyed authority and prestige. Those who had held local power had to be controlled but they could not be entirely eliminated. How was this to be done? In this chapter we will see how the Company came to colonise the countryside, organise revenue resources, redefine the rights of people, and produce the crops it wanted.\n",
      "Enter the number of questions: 5\n",
      "Q1: Now it had ______ think of administering the land and or anising its revenue resources.\n",
      "1. financial\n",
      "2. to\n",
      "3. the\n",
      "4. an\n",
      "5. Diwani\n",
      "Correct Options: (b) & (c) & (e)\n",
      "\n",
      "Q2: In this ______ we will see how the Company came to colonise the countryside, organise revenue resources, redefine the rights of people, and produce the crops it wanted.\n",
      "1. clearly\n",
      "2. its\n",
      "3. this\n",
      "4. chapter\n",
      "5. As\n",
      "Correct Options: (d) & (b) & (e)\n",
      "\n",
      "Q3: But in ______ painting above, ______ event is shown as a majestic occasion, taking place in a grand setting.\n",
      "1. became\n",
      "2. it\n",
      "3. the\n",
      "4. in\n",
      "5. by\n",
      "Correct Options: (c) & (e)\n",
      "\n",
      "Q4: The grant of Diwani clearly was ______ such event in British imagination.\n",
      "1. some\n",
      "2. one\n",
      "3. colonise\n",
      "4. the\n",
      "5. grand\n",
      "Correct Options: (b) & (c)\n",
      "\n",
      "Q5: This had to be done in a way that could yield enough revenue to meet the ______ expenses of the company.\n",
      "1. took\n",
      "2. was\n",
      "3. of\n",
      "4. growing\n",
      "5. and\n",
      "Correct Options: (d) & (a) & (b)\n",
      "\n"
     ]
    }
   ],
   "source": [
    "import spacy\n",
    "import random\n",
    "\n",
    "# Load English language model\n",
    "nlp = spacy.load(\"en_core_web_sm\")\n",
    "\n",
    "def get_mca_questions(context: str, num_questions: int):\n",
    "    doc = nlp(context)\n",
    "\n",
    "    def generate_mcq_with_multiple_correct(question, correct_answers, other_options, num_options=4):\n",
    "        options = correct_answers + other_options\n",
    "        random.shuffle(options)\n",
    "\n",
    "        mcq = {\n",
    "            \"question\": question,\n",
    "            \"options\": options,\n",
    "            \"correct_answers\": correct_answers\n",
    "        }\n",
    "\n",
    "        return mcq\n",
    "\n",
    "    def generate_variety_question():\n",
    "        sentence = random.choice(list(doc.sents))\n",
    "        blank_word = random.choice([token for token in sentence if not token.is_punct])\n",
    "\n",
    "        question_text = sentence.text.replace(blank_word.text, \"______\")\n",
    "        correct_answers = [blank_word.text]\n",
    "\n",
    "        other_options = [token.text for token in doc if token.is_alpha and token.text != correct_answers[0]]\n",
    "        num_correct_options = random.randint(1, 2)  # Generate 1 or 2 correct options\n",
    "        correct_answers.extend(random.sample(other_options, num_correct_options))\n",
    "\n",
    "        num_other_options = min(4 - num_correct_options, len(other_options))\n",
    "        other_options = random.sample(other_options, num_other_options)\n",
    "\n",
    "        mcq = generate_mcq_with_multiple_correct(question_text, correct_answers, other_options)\n",
    "        return mcq\n",
    "\n",
    "    questions = [generate_variety_question() for _ in range(num_questions)]\n",
    "\n",
    "    mca_questions = []\n",
    "    for i, question in enumerate(questions, start=1):\n",
    "        question_str = f\"Q{i}: {question['question']}\\n\"\n",
    "        options_str = \"\"\n",
    "        for j, option in enumerate(question['options']):\n",
    "            options_str += f\"{j+1}. {option}\\n\"\n",
    "\n",
    "        correct_options_formatted = \" & \".join([f\"({chr(97+question['options'].index(ans))})\" for ans in question['correct_answers']])\n",
    "        correct_options_str = f\"Correct Options: {correct_options_formatted}\"\n",
    "\n",
    "        mca_question = f\"{question_str}{options_str}{correct_options_str}\\n\"\n",
    "        mca_questions.append(mca_question)\n",
    "\n",
    "    return mca_questions\n",
    "\n",
    "context = input(\"Enter the paragraph: \")\n",
    "num_questions = int(input(\"Enter the number of questions: \"))\n",
    "mca_questions = get_mca_questions(context, num_questions)\n",
    "for question in mca_questions:\n",
    "    print(question)\n"
   ]
  },
  {
   "cell_type": "markdown",
   "metadata": {
    "id": "MEhpUv04Y5O9"
   },
   "source": [
    "## **Conclusion**"
   ]
  },
  {
   "cell_type": "markdown",
   "metadata": {
    "id": "AsXkskwTmRYB"
   },
   "source": [
    "\n",
    "The program takes a paragraph from the user and creates multiple-choice questions using Spacy. It generates different question formats, like fill-in-the-blank, with various correct options. The user specifies the number of questions, and the program displays these questions along with their answer choices. This is useful for making interactive quizzes or assessments."
   ]
  }
 ],
 "metadata": {
  "colab": {
   "provenance": []
  },
  "kernelspec": {
   "display_name": "Python 3 (ipykernel)",
   "language": "python",
   "name": "python3"
  },
  "language_info": {
   "codemirror_mode": {
    "name": "ipython",
    "version": 3
   },
   "file_extension": ".py",
   "mimetype": "text/x-python",
   "name": "python",
   "nbconvert_exporter": "python",
   "pygments_lexer": "ipython3",
   "version": "3.11.5"
  }
 },
 "nbformat": 4,
 "nbformat_minor": 1
}
